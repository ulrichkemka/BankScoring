{
 "cells": [
  {
   "cell_type": "code",
   "execution_count": 1,
   "metadata": {},
   "outputs": [],
   "source": [
    "from pymongo import MongoClient\n",
    "import pandas as pd\n",
    "\n"
   ]
  },
  {
   "cell_type": "code",
   "execution_count": null,
   "metadata": {},
   "outputs": [],
   "source": [
    "# Connexion à MongoDB (localhost:27017 est l'hôte par défaut)\n",
    "client = MongoClient('mongodb://localhost:27017/')\n",
    "\n",
    "# Accès à la base de données 'farmd' que vous avez montrée dans MongoDB Compass\n",
    "db = client['farmd']\n",
    "\n",
    "# Accès à la collection 'User' (ou une autre collection si nécessaire)\n",
    "collection = db['Client']"
   ]
  },
  {
   "cell_type": "code",
   "execution_count": null,
   "metadata": {},
   "outputs": [],
   "source": [
    "df_cleaned_encod = pd.read_csv('./df_cleaned_encod.csv')"
   ]
  },
  {
   "cell_type": "code",
   "execution_count": null,
   "metadata": {},
   "outputs": [],
   "source": [
    "data_to_insert = df_cleaned_encod.to_dict('records')\n",
    "\n",
    "\n",
    "# Insérer les données dans la collection MongoDB\n",
    "collection.insert_many(data_to_insert)\n",
    "\n",
    "print(\"Données insérées dans MongoDB avec succès\")"
   ]
  },
  {
   "cell_type": "code",
   "execution_count": null,
   "metadata": {},
   "outputs": [],
   "source": []
  }
 ],
 "metadata": {
  "kernelspec": {
   "display_name": "Python 3",
   "language": "python",
   "name": "python3"
  },
  "language_info": {
   "codemirror_mode": {
    "name": "ipython",
    "version": 3
   },
   "file_extension": ".py",
   "mimetype": "text/x-python",
   "name": "python",
   "nbconvert_exporter": "python",
   "pygments_lexer": "ipython3",
   "version": "3.12.6"
  }
 },
 "nbformat": 4,
 "nbformat_minor": 2
}
